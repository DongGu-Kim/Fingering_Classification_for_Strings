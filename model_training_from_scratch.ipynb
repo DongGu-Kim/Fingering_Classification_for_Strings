{
 "cells": [
  {
   "cell_type": "code",
   "execution_count": 1,
   "metadata": {
    "scrolled": false
   },
   "outputs": [],
   "source": [
    "from tensorflow.python.client import device_lib \n",
    "\n",
    "# check if GPU is available\n",
    "devices = [x.name for x in device_lib.list_local_devices() if x.device_type == 'GPU']"
   ]
  },
  {
   "cell_type": "code",
   "execution_count": 2,
   "metadata": {},
   "outputs": [],
   "source": [
    "import os\n",
    "import numpy as np\n",
    "from sklearn import preprocessing\n",
    "from sklearn.model_selection import train_test_split\n",
    "import tensorflow as tf\n",
    "tf.enable_eager_execution()\n",
    "\n",
    "# train using GPU\n",
    "if len(devices) > 0:\n",
    "    tf.device('/gpu:0')\n",
    "from tensorflow.keras.preprocessing.image import load_img\n",
    "from tensorflow.keras.preprocessing.image import img_to_array\n",
    "from tensorflow.keras.preprocessing.image import ImageDataGenerator\n",
    "from tensorflow.keras.callbacks import EarlyStopping"
   ]
  },
  {
   "cell_type": "code",
   "execution_count": 3,
   "metadata": {},
   "outputs": [],
   "source": [
    "X = []\n",
    "y_label = []\n",
    "for finger_idx in [1,2,3,4]:\n",
    "    for file_idx in range(1,1001):   \n",
    "        path = \"data/finger%d/finger%d_%d.jpg\" %(finger_idx, finger_idx, file_idx)\n",
    "        temp = load_img(path, target_size=(224, 224))\n",
    "        keep = temp.copy()\n",
    "        X.append(img_to_array(keep))\n",
    "        temp.close()\n",
    "        y_label.append(finger_idx-1)\n",
    "X = np.array(X)\n",
    "y_label = np.array(y_label)"
   ]
  },
  {
   "cell_type": "code",
   "execution_count": 4,
   "metadata": {},
   "outputs": [],
   "source": [
    "# Split into train, test\n",
    "X_train_val, X_test, y_train_val, y_test = train_test_split(X, y_label, test_size=0.1, random_state=42)\n",
    "X_train, X_val, y_train, y_val = train_test_split(X_train_val, y_train_val, test_size=0.2, random_state=42)"
   ]
  },
  {
   "cell_type": "markdown",
   "metadata": {},
   "source": [
    "# Train Model"
   ]
  },
  {
   "cell_type": "code",
   "execution_count": 9,
   "metadata": {},
   "outputs": [],
   "source": [
    "# Define CNN model\n",
    "model = tf.keras.models.Sequential([\n",
    "            tf.keras.layers.Conv2D(32, kernel_size=(3,3), activation=\"relu\", input_shape=(224,224,3), padding=\"same\"),\n",
    "            tf.keras.layers.MaxPooling2D(pool_size=(2,2)),\n",
    "            tf.keras.layers.Conv2D(64, kernel_size=(3,3), activation=\"relu\", padding=\"same\"),\n",
    "            tf.keras.layers.MaxPooling2D(pool_size=(2,2)),\n",
    "#             tf.keras.layers.Conv2D(128, kernel_size=(3,3), activation=\"relu\", padding=\"same\"),\n",
    "#             tf.keras.layers.MaxPooling2D(pool_size=(2,2)),\n",
    "            tf.keras.layers.Flatten(),\n",
    "#             tf.keras.layers.Dense(1024, activation=\"relu\"),\n",
    "#             tf.keras.layers.Dropout(0.2),\n",
    "#             tf.keras.layers.Dense(512, activation=\"relu\"),\n",
    "            tf.keras.layers.Dense(64, activation=\"relu\"),\n",
    "            tf.keras.layers.Dropout(0.2),\n",
    "            tf.keras.layers.Dense(4, activation=\"softmax\")])"
   ]
  },
  {
   "cell_type": "code",
   "execution_count": 10,
   "metadata": {},
   "outputs": [],
   "source": [
    "# optimizer\n",
    "optimizer = tf.train.AdadeltaOptimizer(learning_rate=0.2)\n",
    "# compile\n",
    "model.compile(optimizer=optimizer, \n",
    "              loss='sparse_categorical_crossentropy', \n",
    "              metrics=['accuracy'])"
   ]
  },
  {
   "cell_type": "code",
   "execution_count": 11,
   "metadata": {},
   "outputs": [],
   "source": [
    "callbacks = [EarlyStopping(monitor='val_loss', min_delta=0.001, patience=10, mode='auto', verbose=1,)]\n",
    "train_gen = ImageDataGenerator(rescale = 1./255,rotation_range=20,width_shift_range=0.2,height_shift_range=0.2,horizontal_flip=True)\n",
    "train_gen.fit(X_train)\n",
    "val_gen = ImageDataGenerator(rescale = 1./255,rotation_range=20,width_shift_range=0.2,height_shift_range=0.2,horizontal_flip=True)\n",
    "val_gen.fit(X_val)"
   ]
  },
  {
   "cell_type": "code",
   "execution_count": 12,
   "metadata": {},
   "outputs": [
    {
     "name": "stdout",
     "output_type": "stream",
     "text": [
      "Epoch 1/50\n",
      "29/28 [==============================] - 34s 1s/step - loss: 1.4602 - acc: 0.3149 - val_loss: 1.3434 - val_acc: 0.4653\n",
      "Epoch 2/50\n",
      "29/28 [==============================] - 27s 937ms/step - loss: 1.3374 - acc: 0.3850 - val_loss: 1.3426 - val_acc: 0.2722\n",
      "Epoch 3/50\n",
      "29/28 [==============================] - 27s 937ms/step - loss: 1.2855 - acc: 0.4229 - val_loss: 1.2620 - val_acc: 0.4264\n",
      "Epoch 4/50\n",
      "29/28 [==============================] - 28s 950ms/step - loss: 1.2427 - acc: 0.4388 - val_loss: 1.1920 - val_acc: 0.4750\n",
      "Epoch 5/50\n",
      "29/28 [==============================] - 27s 939ms/step - loss: 1.1986 - acc: 0.4461 - val_loss: 1.1263 - val_acc: 0.5014\n",
      "Epoch 6/50\n",
      "29/28 [==============================] - 28s 960ms/step - loss: 1.1563 - acc: 0.4529 - val_loss: 1.1199 - val_acc: 0.5042\n",
      "Epoch 7/50\n",
      "29/28 [==============================] - 28s 952ms/step - loss: 1.1244 - acc: 0.4643 - val_loss: 1.0761 - val_acc: 0.5264\n",
      "Epoch 8/50\n",
      "29/28 [==============================] - 29s 995ms/step - loss: 1.0794 - acc: 0.4873 - val_loss: 1.0309 - val_acc: 0.5083\n",
      "Epoch 9/50\n",
      "29/28 [==============================] - 28s 953ms/step - loss: 1.0753 - acc: 0.4756 - val_loss: 1.0083 - val_acc: 0.5181\n",
      "Epoch 10/50\n",
      "29/28 [==============================] - 28s 949ms/step - loss: 1.0479 - acc: 0.4929 - val_loss: 0.9738 - val_acc: 0.5611\n",
      "Epoch 11/50\n",
      "29/28 [==============================] - 30s 1s/step - loss: 1.0355 - acc: 0.5046 - val_loss: 0.9118 - val_acc: 0.6083\n",
      "Epoch 12/50\n",
      "29/28 [==============================] - 29s 1s/step - loss: 1.0088 - acc: 0.5255 - val_loss: 0.9403 - val_acc: 0.5764\n",
      "Epoch 13/50\n",
      "29/28 [==============================] - 28s 961ms/step - loss: 0.9902 - acc: 0.5174 - val_loss: 0.9064 - val_acc: 0.5819\n",
      "Epoch 14/50\n",
      "29/28 [==============================] - 29s 987ms/step - loss: 0.9586 - acc: 0.5385 - val_loss: 0.8590 - val_acc: 0.5806\n",
      "Epoch 15/50\n",
      "29/28 [==============================] - 27s 947ms/step - loss: 0.9386 - acc: 0.5355 - val_loss: 0.8326 - val_acc: 0.6708\n",
      "Epoch 16/50\n",
      "29/28 [==============================] - 27s 935ms/step - loss: 0.9039 - acc: 0.5415 - val_loss: 0.8362 - val_acc: 0.5903\n",
      "Epoch 17/50\n",
      "29/28 [==============================] - 28s 956ms/step - loss: 0.8850 - acc: 0.5471 - val_loss: 0.8642 - val_acc: 0.5722\n",
      "Epoch 18/50\n",
      "29/28 [==============================] - 27s 935ms/step - loss: 0.8955 - acc: 0.5376 - val_loss: 0.7914 - val_acc: 0.6819\n",
      "Epoch 19/50\n",
      "29/28 [==============================] - 27s 948ms/step - loss: 0.8493 - acc: 0.5736 - val_loss: 0.7661 - val_acc: 0.6611\n",
      "Epoch 20/50\n",
      "29/28 [==============================] - 29s 992ms/step - loss: 0.8684 - acc: 0.5482 - val_loss: 0.7677 - val_acc: 0.5903\n",
      "Epoch 21/50\n",
      "29/28 [==============================] - 29s 1s/step - loss: 0.8431 - acc: 0.5637 - val_loss: 0.8169 - val_acc: 0.5847\n",
      "Epoch 22/50\n",
      "29/28 [==============================] - 30s 1s/step - loss: 0.8547 - acc: 0.5665 - val_loss: 0.7441 - val_acc: 0.6361\n",
      "Epoch 23/50\n",
      "29/28 [==============================] - 28s 966ms/step - loss: 0.8411 - acc: 0.5674 - val_loss: 0.7424 - val_acc: 0.6181\n",
      "Epoch 24/50\n",
      "29/28 [==============================] - 27s 941ms/step - loss: 0.8537 - acc: 0.5618 - val_loss: 0.7192 - val_acc: 0.7000\n",
      "Epoch 25/50\n",
      "29/28 [==============================] - 29s 987ms/step - loss: 0.8171 - acc: 0.5839 - val_loss: 0.7184 - val_acc: 0.6486\n",
      "Epoch 26/50\n",
      "29/28 [==============================] - 29s 986ms/step - loss: 0.8226 - acc: 0.5798 - val_loss: 0.7367 - val_acc: 0.6264\n",
      "Epoch 27/50\n",
      "29/28 [==============================] - 29s 993ms/step - loss: 0.8066 - acc: 0.6020 - val_loss: 0.7836 - val_acc: 0.5806\n",
      "Epoch 28/50\n",
      "29/28 [==============================] - 29s 1s/step - loss: 0.8052 - acc: 0.6005 - val_loss: 0.6960 - val_acc: 0.7292\n",
      "Epoch 29/50\n",
      "29/28 [==============================] - 29s 983ms/step - loss: 0.7996 - acc: 0.6129 - val_loss: 0.7022 - val_acc: 0.6500\n",
      "Epoch 30/50\n",
      "29/28 [==============================] - 29s 994ms/step - loss: 0.7922 - acc: 0.6078 - val_loss: 0.6637 - val_acc: 0.7403\n",
      "Epoch 31/50\n",
      "29/28 [==============================] - 28s 982ms/step - loss: 0.7772 - acc: 0.6130 - val_loss: 0.6486 - val_acc: 0.7639\n",
      "Epoch 32/50\n",
      "29/28 [==============================] - 28s 957ms/step - loss: 0.8023 - acc: 0.5868 - val_loss: 0.6906 - val_acc: 0.6819\n",
      "Epoch 33/50\n",
      "29/28 [==============================] - 28s 974ms/step - loss: 0.7925 - acc: 0.5999 - val_loss: 0.7008 - val_acc: 0.6722\n",
      "Epoch 34/50\n",
      "29/28 [==============================] - 27s 938ms/step - loss: 0.7912 - acc: 0.5973 - val_loss: 0.7333 - val_acc: 0.6167\n",
      "Epoch 35/50\n",
      "29/28 [==============================] - 27s 918ms/step - loss: 0.7754 - acc: 0.6078 - val_loss: 0.6955 - val_acc: 0.6583\n",
      "Epoch 36/50\n",
      "29/28 [==============================] - 27s 928ms/step - loss: 0.7729 - acc: 0.6004 - val_loss: 0.6534 - val_acc: 0.7389\n",
      "Epoch 37/50\n",
      "29/28 [==============================] - 27s 930ms/step - loss: 0.7762 - acc: 0.6052 - val_loss: 0.6348 - val_acc: 0.7375\n",
      "Epoch 38/50\n",
      "29/28 [==============================] - 27s 925ms/step - loss: 0.7899 - acc: 0.5903 - val_loss: 0.6781 - val_acc: 0.6708\n",
      "Epoch 39/50\n",
      "29/28 [==============================] - 28s 978ms/step - loss: 0.7554 - acc: 0.6215 - val_loss: 0.6872 - val_acc: 0.6639\n",
      "Epoch 40/50\n",
      "29/28 [==============================] - 27s 929ms/step - loss: 0.7565 - acc: 0.6170 - val_loss: 0.7083 - val_acc: 0.6486\n",
      "Epoch 41/50\n",
      "29/28 [==============================] - 29s 984ms/step - loss: 0.7480 - acc: 0.6283 - val_loss: 0.5961 - val_acc: 0.7833\n",
      "Epoch 42/50\n",
      "29/28 [==============================] - 29s 1000ms/step - loss: 0.7388 - acc: 0.6329 - val_loss: 0.6160 - val_acc: 0.7361\n",
      "Epoch 43/50\n",
      "29/28 [==============================] - 29s 995ms/step - loss: 0.7396 - acc: 0.6642 - val_loss: 0.6127 - val_acc: 0.7611\n",
      "Epoch 44/50\n",
      "29/28 [==============================] - 28s 971ms/step - loss: 0.7736 - acc: 0.6432 - val_loss: 0.6598 - val_acc: 0.6722\n",
      "Epoch 45/50\n",
      "29/28 [==============================] - 29s 984ms/step - loss: 0.7028 - acc: 0.6839 - val_loss: 0.5910 - val_acc: 0.7792\n",
      "Epoch 46/50\n",
      "29/28 [==============================] - 28s 980ms/step - loss: 0.7106 - acc: 0.6916 - val_loss: 0.6275 - val_acc: 0.6986\n",
      "Epoch 47/50\n",
      "29/28 [==============================] - 29s 990ms/step - loss: 0.7119 - acc: 0.6660 - val_loss: 0.6111 - val_acc: 0.7736\n",
      "Epoch 48/50\n",
      "29/28 [==============================] - 27s 945ms/step - loss: 0.6869 - acc: 0.7006 - val_loss: 0.6019 - val_acc: 0.7347\n",
      "Epoch 49/50\n",
      "29/28 [==============================] - 28s 952ms/step - loss: 0.7070 - acc: 0.6726 - val_loss: 0.5721 - val_acc: 0.7472\n",
      "Epoch 50/50\n",
      "29/28 [==============================] - 27s 931ms/step - loss: 0.7046 - acc: 0.6760 - val_loss: 0.5842 - val_acc: 0.7597\n"
     ]
    },
    {
     "data": {
      "text/plain": [
       "<tensorflow.python.keras.callbacks.History at 0x7f25400d7470>"
      ]
     },
     "execution_count": 12,
     "metadata": {},
     "output_type": "execute_result"
    }
   ],
   "source": [
    "batch_size = 100\n",
    "model.fit_generator(train_gen.flow(X_train, y_train, batch_size=batch_size), \n",
    "                    steps_per_epoch=len(X_train)/batch_size, \n",
    "                    epochs=50, \n",
    "                    validation_data=val_gen.flow(X_val, y_val, batch_size=batch_size), \n",
    "                    callbacks=callbacks, verbose=1)"
   ]
  },
  {
   "cell_type": "code",
   "execution_count": 9,
   "metadata": {},
   "outputs": [
    {
     "name": "stdout",
     "output_type": "stream",
     "text": [
      "13/13 [==============================] - 1s 76ms/step\n"
     ]
    },
    {
     "data": {
      "text/plain": [
       "[5.848296604156494, 0.635]"
      ]
     },
     "execution_count": 9,
     "metadata": {},
     "output_type": "execute_result"
    }
   ],
   "source": [
    "model.evaluate(X_test, y_test)"
   ]
  },
  {
   "cell_type": "code",
   "execution_count": 9,
   "metadata": {},
   "outputs": [
    {
     "name": "stderr",
     "output_type": "stream",
     "text": [
      "Using TensorFlow backend.\n"
     ]
    },
    {
     "name": "stdout",
     "output_type": "stream",
     "text": [
      "WARNING:tensorflow:TensorFlow optimizers do not make it possible to access optimizer attributes or optimizer state after instantiation. As a result, we cannot save the optimizer as part of the model save file.You will have to compile your model again after loading it. Prefer using a Keras optimizer instead (see keras.io/optimizers).\n"
     ]
    }
   ],
   "source": [
    "import json\n",
    "import tensorflowjs as tfjs\n",
    "\n",
    "tfjs.converters.save_keras_model(model, 'js_model/')"
   ]
  }
 ],
 "metadata": {
  "kernelspec": {
   "display_name": "Python 3",
   "language": "python",
   "name": "python3"
  },
  "language_info": {
   "codemirror_mode": {
    "name": "ipython",
    "version": 3
   },
   "file_extension": ".py",
   "mimetype": "text/x-python",
   "name": "python",
   "nbconvert_exporter": "python",
   "pygments_lexer": "ipython3",
   "version": "3.5.6"
  }
 },
 "nbformat": 4,
 "nbformat_minor": 2
}
